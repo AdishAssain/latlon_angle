{
 "cells": [
  {
   "cell_type": "markdown",
   "id": "ef6c519f",
   "metadata": {},
   "source": [
    "### Azimuth angle of two GPS locations\n",
    "\n",
    "#### Input:  (lat1, long1, lat2, long2)\n",
    "#### Output: coastal angle theta, 0< theta<360\n",
    "\n",
    "#### geodetic to cartesian: https://en.wikipedia.org/wiki/Geographic_coordinate_conversion\n",
    "#### Reference system: https://en.wikipedia.org/wiki/Earth-centered,_Earth-fixed_coordinate_system"
   ]
  },
  {
   "cell_type": "code",
   "execution_count": 5,
   "id": "15111819",
   "metadata": {},
   "outputs": [],
   "source": [
    "import numpy as np"
   ]
  },
  {
   "cell_type": "code",
   "execution_count": 6,
   "id": "7abe4b58",
   "metadata": {},
   "outputs": [],
   "source": [
    "def vector_calc(lat, long, ht):\n",
    "    '''\n",
    "    Calculates the vector from a specified point on the Earth's surface to the North Pole.\n",
    "    '''\n",
    "    a = 6378137.0  # Equatorial radius of the Earth\n",
    "    b = 6356752.314245  # Polar radius of the Earth\n",
    "\n",
    "    e_squared = 1 - ((b ** 2) / (a ** 2))  # e is the eccentricity of the Earth\n",
    "    n_phi = a / (np.sqrt(1 - (e_squared * (np.sin(lat) ** 2))))\n",
    "\n",
    "    x = (n_phi + ht) * np.cos(lat) * np.cos(long)\n",
    "    y = (n_phi + ht) * np.cos(lat) * np.sin(long)\n",
    "    z = ((((b ** 2) / (a ** 2)) * n_phi) + ht) * np.sin(lat)\n",
    "\n",
    "    x_npole = 0.0\n",
    "    y_npole = 6378137.0\n",
    "    z_npole = 0.0\n",
    "\n",
    "    v = ((x_npole - x), (y_npole - y), (z_npole - z))\n",
    "\n",
    "    return v"
   ]
  },
  {
   "cell_type": "code",
   "execution_count": 7,
   "id": "212ac22b",
   "metadata": {},
   "outputs": [],
   "source": [
    "def angle_calc(lat1, long1, lat2, long2, ht1=0, ht2=0):\n",
    "    '''\n",
    "    Calculates the angle between the vectors from 2 points to the North Pole.\n",
    "    '''\n",
    "    # Convert from degrees to radians\n",
    "    lat1_rad = (lat1 / 180) * np.pi\n",
    "    long1_rad = (long1 / 180) * np.pi\n",
    "    lat2_rad = (lat2 / 180) * np.pi\n",
    "    long2_rad = (long2 / 180) * np.pi\n",
    "\n",
    "    v1 = vector_calc(lat1_rad, long1_rad, ht1)\n",
    "    v2 = vector_calc(lat2_rad, long2_rad, ht2)\n",
    "\n",
    "    # The angle between two vectors, vect1 and vect2 is given by:\n",
    "    # arccos[vect1.vect2 / |vect1||vect2|]\n",
    "    dot = np.dot(v1, v2)  # The dot product of the two vectors\n",
    "    v1_mag = np.linalg.norm(v1)  # The magnitude of the vector v1\n",
    "    v2_mag = np.linalg.norm(v2)  # The magnitude of the vector v2\n",
    "\n",
    "    theta_rad = np.arccos(dot / (v1_mag * v2_mag))\n",
    "    # Convert radians back to degrees\n",
    "    theta = (theta_rad / np.pi) * 180\n",
    "\n",
    "    return theta"
   ]
  },
  {
   "cell_type": "code",
   "execution_count": 12,
   "id": "e51d936e",
   "metadata": {},
   "outputs": [
    {
     "data": {
      "text/plain": [
       "0.05435784219153958"
      ]
     },
     "execution_count": 12,
     "metadata": {},
     "output_type": "execute_result"
    }
   ],
   "source": [
    "angle_calc(11.498, 75.613, 11.527, 75.603)"
   ]
  },
  {
   "cell_type": "code",
   "execution_count": null,
   "id": "0517fb03",
   "metadata": {},
   "outputs": [],
   "source": []
  },
  {
   "cell_type": "code",
   "execution_count": null,
   "id": "3c4119ec",
   "metadata": {},
   "outputs": [],
   "source": []
  }
 ],
 "metadata": {
  "kernelspec": {
   "display_name": "Python 3 (ipykernel)",
   "language": "python",
   "name": "python3"
  },
  "language_info": {
   "codemirror_mode": {
    "name": "ipython",
    "version": 3
   },
   "file_extension": ".py",
   "mimetype": "text/x-python",
   "name": "python",
   "nbconvert_exporter": "python",
   "pygments_lexer": "ipython3",
   "version": "3.9.12"
  }
 },
 "nbformat": 4,
 "nbformat_minor": 5
}
